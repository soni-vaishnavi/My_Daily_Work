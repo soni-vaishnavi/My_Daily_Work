{
 "cells": [
  {
   "cell_type": "code",
   "execution_count": 18,
   "id": "29803761",
   "metadata": {},
   "outputs": [],
   "source": [
    "file=open(\"evening.txt\",\"w\") \n",
    "list43=[\"manyata\",\"\\n is good \",\"\\n girl\"]\n",
    "file.write(\"Trish topper nahi hai ya hai ?\")\n",
    "file.close()"
   ]
  },
  {
   "cell_type": "code",
   "execution_count": 4,
   "id": "a403f750",
   "metadata": {},
   "outputs": [],
   "source": [
    "file = open(\"evening.txt\", \"w\")\n",
    "content = [\"hello this is me\\t\", \"how are you\"]\n",
    "file.writelines(content)\n",
    "file.close()"
   ]
  },
  {
   "cell_type": "code",
   "execution_count": 20,
   "id": "7f993ee5",
   "metadata": {},
   "outputs": [],
   "source": [
    "file = open(\"evening.txt\", \"r\")\n",
    "content = file.read()"
   ]
  },
  {
   "cell_type": "code",
   "execution_count": 21,
   "id": "9375e3a0",
   "metadata": {},
   "outputs": [
    {
     "data": {
      "text/plain": [
       "'hello this is me\\nhow are you'"
      ]
     },
     "execution_count": 21,
     "metadata": {},
     "output_type": "execute_result"
    }
   ],
   "source": [
    "content"
   ]
  },
  {
   "cell_type": "code",
   "execution_count": 22,
   "id": "f932583f",
   "metadata": {},
   "outputs": [
    {
     "name": "stdout",
     "output_type": "stream",
     "text": [
      "hello this is me\n",
      "\n"
     ]
    },
    {
     "data": {
      "text/plain": [
       "<function TextIOWrapper.close()>"
      ]
     },
     "execution_count": 22,
     "metadata": {},
     "output_type": "execute_result"
    }
   ],
   "source": [
    "file = open(\"evening.txt\", \"r\")\n",
    "content = file.readline()\n",
    "content2 = file.readline()\n",
    "print(content)\n",
    "content2\n",
    "file.close"
   ]
  },
  {
   "cell_type": "code",
   "execution_count": 5,
   "id": "3a804626",
   "metadata": {},
   "outputs": [],
   "source": [
    "file = open(\"evening.txt\", \"r\")\n",
    "for i in file:\n",
    "    content = i\n",
    "file.close()"
   ]
  },
  {
   "cell_type": "code",
   "execution_count": 6,
   "id": "a097fd8b",
   "metadata": {},
   "outputs": [
    {
     "data": {
      "text/plain": [
       "'hello this is me\\thow are you'"
      ]
     },
     "execution_count": 6,
     "metadata": {},
     "output_type": "execute_result"
    }
   ],
   "source": [
    "content"
   ]
  },
  {
   "cell_type": "code",
   "execution_count": 12,
   "id": "3a1c5743",
   "metadata": {},
   "outputs": [],
   "source": [
    "data = [f\"this is my data {i} \\n\" for i in range(1,15)]"
   ]
  },
  {
   "cell_type": "code",
   "execution_count": 8,
   "id": "e30243b8",
   "metadata": {},
   "outputs": [
    {
     "data": {
      "text/plain": [
       "['this is my data 1',\n",
       " 'this is my data 2',\n",
       " 'this is my data 3',\n",
       " 'this is my data 4',\n",
       " 'this is my data 5',\n",
       " 'this is my data 6',\n",
       " 'this is my data 7',\n",
       " 'this is my data 8',\n",
       " 'this is my data 9',\n",
       " 'this is my data 10',\n",
       " 'this is my data 11',\n",
       " 'this is my data 12',\n",
       " 'this is my data 13',\n",
       " 'this is my data 14']"
      ]
     },
     "execution_count": 8,
     "metadata": {},
     "output_type": "execute_result"
    }
   ],
   "source": [
    "data"
   ]
  },
  {
   "cell_type": "code",
   "execution_count": 13,
   "id": "69863347",
   "metadata": {},
   "outputs": [],
   "source": [
    "\n",
    "with open (\"evening.txt\" , \"w\") as f:\n",
    "    f.writelines(data)"
   ]
  },
  {
   "cell_type": "code",
   "execution_count": 16,
   "id": "284ed753",
   "metadata": {},
   "outputs": [
    {
     "name": "stdout",
     "output_type": "stream",
     "text": [
      "['this is my data 1 \\n', 'this is my data 2 \\n', 'this is my data 3 \\n', 'this is my data 4 \\n', 'this is my data 5 \\n', 'this is my data 6 \\n', 'this is my data 7 \\n', 'this is my data 8 \\n', 'this is my data 9 \\n', 'this is my data 10 \\n', 'this is my data 11 \\n', 'this is my data 12 \\n', 'this is my data 13 \\n', 'this is my data 14 \\n']\n"
     ]
    }
   ],
   "source": [
    "with open (\"evening.txt\", \"r\") as file:\n",
    "   print( file.readlines())"
   ]
  },
  {
   "cell_type": "markdown",
   "id": "33aeae91",
   "metadata": {},
   "source": [
    "### user input \n"
   ]
  },
  {
   "cell_type": "code",
   "execution_count": 17,
   "id": "74a85212",
   "metadata": {},
   "outputs": [],
   "source": [
    "lines = []\n",
    "for i in range(3):\n",
    "    line = input(\"Enter a line: \")\n",
    "    lines.append(line + \"\\n\")\n",
    "\n",
    "\n",
    "with open (\"evening.txt\" , \"w\") as f:\n",
    "    f.writelines(lines)"
   ]
  },
  {
   "cell_type": "code",
   "execution_count": 22,
   "id": "966f1f2f",
   "metadata": {},
   "outputs": [],
   "source": [
    "with open (\"evening.txt\" , \"a\") as f:\n",
    " for i in range(4):\n",
    "    line = input(\"enter the line:\")\n",
    "    f.writelines(line + \"\\n\")\n"
   ]
  },
  {
   "cell_type": "code",
   "execution_count": 27,
   "id": "dd22435b",
   "metadata": {},
   "outputs": [
    {
     "name": "stdout",
     "output_type": "stream",
     "text": [
      "df\n",
      "hi \n",
      "this\n"
     ]
    }
   ],
   "source": [
    "with open (\"evening.txt\" , \"r\") as f:\n",
    "    c = f.read(5)\n",
    "    c2 = f.read(5)\n",
    "print(c , c2)"
   ]
  },
  {
   "cell_type": "code",
   "execution_count": 28,
   "id": "226d3daf",
   "metadata": {},
   "outputs": [
    {
     "name": "stdout",
     "output_type": "stream",
     "text": [
      "df\n",
      "hi\n",
      "\n",
      "this\n",
      "\n",
      "ffre\n",
      "rerer\n",
      "eerer\n",
      "tt\n",
      "tr\n",
      "t\n",
      "trt\n",
      "\n",
      "trrt\n"
     ]
    }
   ],
   "source": [
    "chunksize = 5\n",
    "file = open(\"evening.txt\", \"r\")\n",
    "data = file.read(chunksize)\n",
    "while len(data)>= chunksize:\n",
    "    print(data , end = \"\\n\")\n",
    "    data = file.read(chunksize)"
   ]
  },
  {
   "cell_type": "code",
   "execution_count": 33,
   "id": "b1cc06b2",
   "metadata": {},
   "outputs": [
    {
     "name": "stdout",
     "output_type": "stream",
     "text": [
      "df\n",
      "hi\n",
      "\n",
      "this\n",
      "\n",
      "ffre\n",
      "rerer\n",
      "eerer\n",
      "tt\n",
      "tr\n",
      "t\n",
      "trt\n",
      "\n",
      "trrt\n",
      "\n",
      "\n",
      "\n"
     ]
    }
   ],
   "source": [
    "chunksize = 5\n",
    "file = open(\"evening.txt\", \"r\")\n",
    "while True:\n",
    "    data = file.read(chunksize)\n",
    "    print(data )\n",
    "    if not data:\n",
    "        break\n"
   ]
  },
  {
   "cell_type": "code",
   "execution_count": 37,
   "id": "939ff6d8",
   "metadata": {},
   "outputs": [],
   "source": [
    "dict45 = {\"a\":4, \"b\":3}"
   ]
  },
  {
   "cell_type": "code",
   "execution_count": 39,
   "id": "f2d88b1a",
   "metadata": {},
   "outputs": [],
   "source": [
    "import json\n",
    "with open (\"sample.txt\", \"w\") as f1:\n",
    "    json.dump(dict45,f1)"
   ]
  },
  {
   "cell_type": "code",
   "execution_count": 42,
   "id": "60f2a865",
   "metadata": {},
   "outputs": [
    {
     "data": {
      "text/plain": [
       "'{\"a\": 4, \"b\": 3}'"
      ]
     },
     "execution_count": 42,
     "metadata": {},
     "output_type": "execute_result"
    }
   ],
   "source": [
    "f1 =open(\"sample.txt\", \"r\")\n",
    "f1.read()"
   ]
  },
  {
   "cell_type": "code",
   "execution_count": 43,
   "id": "4709670f",
   "metadata": {},
   "outputs": [],
   "source": [
    "with open(\"h.txt\",\"w\") as file:\n",
    "    string=\"ABCDEFGHIJKLMNO\"\n",
    "    file.write(string)\n",
    "    "
   ]
  },
  {
   "cell_type": "code",
   "execution_count": 44,
   "id": "cc11ffd1",
   "metadata": {},
   "outputs": [
    {
     "name": "stdout",
     "output_type": "stream",
     "text": [
      "0\n",
      "ABCDEFGHIJKLMNO\n",
      "15\n",
      "7\n",
      "HIJK\n",
      "11\n"
     ]
    }
   ],
   "source": [
    "with open(\"h.txt\",\"r\") as file:\n",
    "    print(file.tell())\n",
    "    m=file.read()\n",
    "    print(m)\n",
    "    print(file.tell())\n",
    "    file.seek(7)\n",
    "    print(file.tell())\n",
    "    n=file.read(4)\n",
    "    print(n)\n",
    "    print(file.tell())\n",
    "    "
   ]
  },
  {
   "cell_type": "code",
   "execution_count": null,
   "id": "013cf7e6",
   "metadata": {},
   "outputs": [],
   "source": []
  }
 ],
 "metadata": {
  "kernelspec": {
   "display_name": "base",
   "language": "python",
   "name": "python3"
  },
  "language_info": {
   "codemirror_mode": {
    "name": "ipython",
    "version": 3
   },
   "file_extension": ".py",
   "mimetype": "text/x-python",
   "name": "python",
   "nbconvert_exporter": "python",
   "pygments_lexer": "ipython3",
   "version": "3.12.4"
  }
 },
 "nbformat": 4,
 "nbformat_minor": 5
}
