{
 "cells": [
  {
   "cell_type": "code",
   "execution_count": 1,
   "id": "e05c44df",
   "metadata": {},
   "outputs": [
    {
     "name": "stdout",
     "output_type": "stream",
     "text": [
      "Help on class Exception in module builtins:\n",
      "\n",
      "class Exception(BaseException)\n",
      " |  Common base class for all non-exit exceptions.\n",
      " |\n",
      " |  Method resolution order:\n",
      " |      Exception\n",
      " |      BaseException\n",
      " |      object\n",
      " |\n",
      " |  Built-in subclasses:\n",
      " |      ArithmeticError\n",
      " |      AssertionError\n",
      " |      AttributeError\n",
      " |      BufferError\n",
      " |      ... and 16 other subclasses\n",
      " |\n",
      " |  Methods defined here:\n",
      " |\n",
      " |  __init__(self, /, *args, **kwargs)\n",
      " |      Initialize self.  See help(type(self)) for accurate signature.\n",
      " |\n",
      " |  ----------------------------------------------------------------------\n",
      " |  Static methods defined here:\n",
      " |\n",
      " |  __new__(*args, **kwargs)\n",
      " |      Create and return a new object.  See help(type) for accurate signature.\n",
      " |\n",
      " |  ----------------------------------------------------------------------\n",
      " |  Methods inherited from BaseException:\n",
      " |\n",
      " |  __delattr__(self, name, /)\n",
      " |      Implement delattr(self, name).\n",
      " |\n",
      " |  __getattribute__(self, name, /)\n",
      " |      Return getattr(self, name).\n",
      " |\n",
      " |  __reduce__(...)\n",
      " |      Helper for pickle.\n",
      " |\n",
      " |  __repr__(self, /)\n",
      " |      Return repr(self).\n",
      " |\n",
      " |  __setattr__(self, name, value, /)\n",
      " |      Implement setattr(self, name, value).\n",
      " |\n",
      " |  __setstate__(...)\n",
      " |\n",
      " |  __str__(self, /)\n",
      " |      Return str(self).\n",
      " |\n",
      " |  add_note(...)\n",
      " |      Exception.add_note(note) --\n",
      " |      add a note to the exception\n",
      " |\n",
      " |  with_traceback(...)\n",
      " |      Exception.with_traceback(tb) --\n",
      " |      set self.__traceback__ to tb and return self.\n",
      " |\n",
      " |  ----------------------------------------------------------------------\n",
      " |  Data descriptors inherited from BaseException:\n",
      " |\n",
      " |  __cause__\n",
      " |      exception cause\n",
      " |\n",
      " |  __context__\n",
      " |      exception context\n",
      " |\n",
      " |  __dict__\n",
      " |\n",
      " |  __suppress_context__\n",
      " |\n",
      " |  __traceback__\n",
      " |\n",
      " |  args\n",
      "\n"
     ]
    }
   ],
   "source": [
    "help(Exception)"
   ]
  },
  {
   "cell_type": "code",
   "execution_count": 2,
   "id": "1a35f934",
   "metadata": {},
   "outputs": [
    {
     "name": "stdout",
     "output_type": "stream",
     "text": [
      "division by zero\n"
     ]
    }
   ],
   "source": [
    "try:\n",
    "    a = int(input(\"enter\"))\n",
    "    b = int(input(\"enter\"))\n",
    "\n",
    "    print(a/b)\n",
    "\n",
    "except Exception as e :\n",
    "    print(e)\n",
    "  "
   ]
  },
  {
   "cell_type": "code",
   "execution_count": null,
   "id": "b61e3a1d",
   "metadata": {},
   "outputs": [],
   "source": []
  }
 ],
 "metadata": {
  "kernelspec": {
   "display_name": "base",
   "language": "python",
   "name": "python3"
  },
  "language_info": {
   "codemirror_mode": {
    "name": "ipython",
    "version": 3
   },
   "file_extension": ".py",
   "mimetype": "text/x-python",
   "name": "python",
   "nbconvert_exporter": "python",
   "pygments_lexer": "ipython3",
   "version": "3.12.4"
  }
 },
 "nbformat": 4,
 "nbformat_minor": 5
}
