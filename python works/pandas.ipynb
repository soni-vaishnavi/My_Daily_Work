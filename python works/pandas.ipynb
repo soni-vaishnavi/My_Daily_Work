{
 "cells": [
  {
   "cell_type": "code",
   "execution_count": 77,
   "id": "34df3113",
   "metadata": {},
   "outputs": [],
   "source": [
    "import pandas as d\n",
    "import numpy as n"
   ]
  },
  {
   "cell_type": "code",
   "execution_count": 78,
   "id": "33e0457b",
   "metadata": {},
   "outputs": [],
   "source": [
    "data = d.Series(n.arange(4,11), index=[\"a\",\"b\",\"c\", \"d\", \"e\",\"f\", \"g\"])"
   ]
  },
  {
   "cell_type": "code",
   "execution_count": 79,
   "id": "e8493ba7",
   "metadata": {},
   "outputs": [
    {
     "data": {
      "text/plain": [
       "a     4\n",
       "b     5\n",
       "c     6\n",
       "d     7\n",
       "e     8\n",
       "f     9\n",
       "g    10\n",
       "dtype: int32"
      ]
     },
     "execution_count": 79,
     "metadata": {},
     "output_type": "execute_result"
    }
   ],
   "source": [
    "data"
   ]
  },
  {
   "cell_type": "code",
   "execution_count": 80,
   "id": "e58614c4",
   "metadata": {},
   "outputs": [
    {
     "data": {
      "text/plain": [
       "(7,)"
      ]
     },
     "execution_count": 80,
     "metadata": {},
     "output_type": "execute_result"
    }
   ],
   "source": [
    "data.shape"
   ]
  },
  {
   "cell_type": "markdown",
   "id": "0fc47eec",
   "metadata": {},
   "source": [
    "### loc and iloc"
   ]
  },
  {
   "cell_type": "markdown",
   "id": "f24ea066",
   "metadata": {},
   "source": [
    "| Feature                     | `iloc`                     | `loc`                             |\n",
    "| --------------------------- | -------------------------- | --------------------------------- |\n",
    "| **Full Form**               | *Integer Location*         | *Label Location*                  |\n",
    "| **Index Type**              | Uses **integer positions** | Uses **labels/names**             |\n",
    "| **Syntax**                  | `df.iloc[0, 1]`            | `df.loc['row_label', 'col_name']` |\n",
    "| **Accesses**                | Row/column by position     | Row/column by label               |\n",
    "| **Use case**                | When you don't know labels | When you know row/column names    |\n",
    "| **Supports slicing?**       | Yes — with integers        | Yes — with labels                 |\n",
    "| **Error on missing index?** | Yes (IndexError)           | Yes (KeyError)                    |\n",
    "\n",
    "\n",
    "loc also includes last index"
   ]
  },
  {
   "cell_type": "code",
   "execution_count": 81,
   "id": "e040bb61",
   "metadata": {},
   "outputs": [
    {
     "data": {
      "text/plain": [
       "a    4\n",
       "b    5\n",
       "c    6\n",
       "dtype: int32"
      ]
     },
     "execution_count": 81,
     "metadata": {},
     "output_type": "execute_result"
    }
   ],
   "source": [
    "data.iloc[0:3]"
   ]
  },
  {
   "cell_type": "code",
   "execution_count": 82,
   "id": "c7e02cc6",
   "metadata": {},
   "outputs": [
    {
     "data": {
      "text/plain": [
       "b    5\n",
       "c    6\n",
       "d    7\n",
       "e    8\n",
       "f    9\n",
       "dtype: int32"
      ]
     },
     "execution_count": 82,
     "metadata": {},
     "output_type": "execute_result"
    }
   ],
   "source": [
    "data.loc[\"b\":\"f\"]"
   ]
  },
  {
   "cell_type": "markdown",
   "id": "d07368e4",
   "metadata": {},
   "source": [
    "## Dataframe"
   ]
  },
  {
   "cell_type": "markdown",
   "id": "af884753",
   "metadata": {},
   "source": [
    "| Feature           | `Series`                | `DataFrame`                     |\n",
    "| ----------------- | ----------------------- | ------------------------------- |\n",
    "| Dimensionality    | 1D                      | 2D                              |\n",
    "| Structure         | Like a single column    | Like a table                    |\n",
    "| Based on          | `Index`                 | `Rows` and `Columns`            |\n",
    "| Created from      | List, Dict, NumPy array | Dict of lists/Series, 2D arrays |\n",
    "| Access by index   | `s['a']`                | `df.loc[0, 'Name']`             |\n",
    "| Number of axes    | 1 (only rows)           | 2 (rows and columns)            |\n",
    "| Real-life analogy | Single column in Excel  | Full Excel sheet                |\n"
   ]
  },
  {
   "cell_type": "code",
   "execution_count": 83,
   "id": "68d57417",
   "metadata": {},
   "outputs": [],
   "source": [
    "student = {\"name\":[\"manav\",\"aashi\", \"manu\",\"aditi\"], \"age\":[21, 22, 21,20], \"class\": [11, 12, 12, 10]}"
   ]
  },
  {
   "cell_type": "code",
   "execution_count": null,
   "id": "85b75395",
   "metadata": {},
   "outputs": [],
   "source": []
  },
  {
   "cell_type": "code",
   "execution_count": 84,
   "id": "b39295b7",
   "metadata": {},
   "outputs": [],
   "source": [
    "df=d.DataFrame(student)"
   ]
  },
  {
   "cell_type": "code",
   "execution_count": 85,
   "id": "1eaa139e",
   "metadata": {},
   "outputs": [
    {
     "data": {
      "text/html": [
       "<div>\n",
       "<style scoped>\n",
       "    .dataframe tbody tr th:only-of-type {\n",
       "        vertical-align: middle;\n",
       "    }\n",
       "\n",
       "    .dataframe tbody tr th {\n",
       "        vertical-align: top;\n",
       "    }\n",
       "\n",
       "    .dataframe thead th {\n",
       "        text-align: right;\n",
       "    }\n",
       "</style>\n",
       "<table border=\"1\" class=\"dataframe\">\n",
       "  <thead>\n",
       "    <tr style=\"text-align: right;\">\n",
       "      <th></th>\n",
       "      <th>name</th>\n",
       "      <th>age</th>\n",
       "      <th>class</th>\n",
       "    </tr>\n",
       "  </thead>\n",
       "  <tbody>\n",
       "    <tr>\n",
       "      <th>0</th>\n",
       "      <td>manav</td>\n",
       "      <td>21</td>\n",
       "      <td>11</td>\n",
       "    </tr>\n",
       "    <tr>\n",
       "      <th>1</th>\n",
       "      <td>aashi</td>\n",
       "      <td>22</td>\n",
       "      <td>12</td>\n",
       "    </tr>\n",
       "    <tr>\n",
       "      <th>2</th>\n",
       "      <td>manu</td>\n",
       "      <td>21</td>\n",
       "      <td>12</td>\n",
       "    </tr>\n",
       "    <tr>\n",
       "      <th>3</th>\n",
       "      <td>aditi</td>\n",
       "      <td>20</td>\n",
       "      <td>10</td>\n",
       "    </tr>\n",
       "  </tbody>\n",
       "</table>\n",
       "</div>"
      ],
      "text/plain": [
       "    name  age  class\n",
       "0  manav   21     11\n",
       "1  aashi   22     12\n",
       "2   manu   21     12\n",
       "3  aditi   20     10"
      ]
     },
     "execution_count": 85,
     "metadata": {},
     "output_type": "execute_result"
    }
   ],
   "source": [
    "df\n"
   ]
  },
  {
   "cell_type": "code",
   "execution_count": 86,
   "id": "189902be",
   "metadata": {},
   "outputs": [
    {
     "name": "stderr",
     "output_type": "stream",
     "text": [
      "C:\\Users\\Dell\\AppData\\Local\\Temp\\ipykernel_48344\\953767033.py:1: FutureWarning: ChainedAssignmentError: behaviour will change in pandas 3.0!\n",
      "You are setting values through chained assignment. Currently this works in certain cases, but when using Copy-on-Write (which will become the default behaviour in pandas 3.0) this will never work to update the original DataFrame or Series, because the intermediate object on which we are setting values will behave as a copy.\n",
      "A typical example is when you are setting values in a column of a DataFrame, like:\n",
      "\n",
      "df[\"col\"][row_indexer] = value\n",
      "\n",
      "Use `df.loc[row_indexer, \"col\"] = values` instead, to perform the assignment in a single step and ensure this keeps updating the original `df`.\n",
      "\n",
      "See the caveats in the documentation: https://pandas.pydata.org/pandas-docs/stable/user_guide/indexing.html#returning-a-view-versus-a-copy\n",
      "\n",
      "  df['name'][0] = 'nitin'\n",
      "C:\\Users\\Dell\\AppData\\Local\\Temp\\ipykernel_48344\\953767033.py:1: SettingWithCopyWarning: \n",
      "A value is trying to be set on a copy of a slice from a DataFrame\n",
      "\n",
      "See the caveats in the documentation: https://pandas.pydata.org/pandas-docs/stable/user_guide/indexing.html#returning-a-view-versus-a-copy\n",
      "  df['name'][0] = 'nitin'\n",
      "C:\\Users\\Dell\\AppData\\Local\\Temp\\ipykernel_48344\\953767033.py:4: FutureWarning: ChainedAssignmentError: behaviour will change in pandas 3.0!\n",
      "You are setting values through chained assignment. Currently this works in certain cases, but when using Copy-on-Write (which will become the default behaviour in pandas 3.0) this will never work to update the original DataFrame or Series, because the intermediate object on which we are setting values will behave as a copy.\n",
      "A typical example is when you are setting values in a column of a DataFrame, like:\n",
      "\n",
      "df[\"col\"][row_indexer] = value\n",
      "\n",
      "Use `df.loc[row_indexer, \"col\"] = values` instead, to perform the assignment in a single step and ensure this keeps updating the original `df`.\n",
      "\n",
      "See the caveats in the documentation: https://pandas.pydata.org/pandas-docs/stable/user_guide/indexing.html#returning-a-view-versus-a-copy\n",
      "\n",
      "  df['name'].iloc[0] = 'manav'\n",
      "C:\\Users\\Dell\\AppData\\Local\\Temp\\ipykernel_48344\\953767033.py:4: SettingWithCopyWarning: \n",
      "A value is trying to be set on a copy of a slice from a DataFrame\n",
      "\n",
      "See the caveats in the documentation: https://pandas.pydata.org/pandas-docs/stable/user_guide/indexing.html#returning-a-view-versus-a-copy\n",
      "  df['name'].iloc[0] = 'manav'\n"
     ]
    }
   ],
   "source": [
    "df['name'][0] = 'nitin'\n",
    "df\n",
    "# or\n",
    "df['name'].iloc[0] = 'manav'\n"
   ]
  },
  {
   "cell_type": "code",
   "execution_count": 87,
   "id": "57a94533",
   "metadata": {},
   "outputs": [],
   "source": [
    "\n",
    "d = df['name']"
   ]
  },
  {
   "cell_type": "code",
   "execution_count": 88,
   "id": "0ffd2210",
   "metadata": {},
   "outputs": [
    {
     "data": {
      "text/plain": [
       "0    manav\n",
       "1    aashi\n",
       "2     manu\n",
       "3    aditi\n",
       "Name: name, dtype: object"
      ]
     },
     "execution_count": 88,
     "metadata": {},
     "output_type": "execute_result"
    }
   ],
   "source": [
    "d"
   ]
  },
  {
   "cell_type": "code",
   "execution_count": 89,
   "id": "fd462d79",
   "metadata": {},
   "outputs": [
    {
     "name": "stderr",
     "output_type": "stream",
     "text": [
      "C:\\Users\\Dell\\AppData\\Local\\Temp\\ipykernel_48344\\1940017219.py:1: SettingWithCopyWarning: \n",
      "A value is trying to be set on a copy of a slice from a DataFrame\n",
      "\n",
      "See the caveats in the documentation: https://pandas.pydata.org/pandas-docs/stable/user_guide/indexing.html#returning-a-view-versus-a-copy\n",
      "  d[0] = 'vaishu'\n"
     ]
    }
   ],
   "source": [
    "d[0] = 'vaishu'"
   ]
  },
  {
   "cell_type": "code",
   "execution_count": 90,
   "id": "19dddd74",
   "metadata": {},
   "outputs": [
    {
     "data": {
      "text/plain": [
       "0    vaishu\n",
       "1     aashi\n",
       "2      manu\n",
       "3     aditi\n",
       "Name: name, dtype: object"
      ]
     },
     "execution_count": 90,
     "metadata": {},
     "output_type": "execute_result"
    }
   ],
   "source": [
    "d"
   ]
  },
  {
   "cell_type": "code",
   "execution_count": 91,
   "id": "7f22c7ea",
   "metadata": {},
   "outputs": [
    {
     "data": {
      "text/html": [
       "<div>\n",
       "<style scoped>\n",
       "    .dataframe tbody tr th:only-of-type {\n",
       "        vertical-align: middle;\n",
       "    }\n",
       "\n",
       "    .dataframe tbody tr th {\n",
       "        vertical-align: top;\n",
       "    }\n",
       "\n",
       "    .dataframe thead th {\n",
       "        text-align: right;\n",
       "    }\n",
       "</style>\n",
       "<table border=\"1\" class=\"dataframe\">\n",
       "  <thead>\n",
       "    <tr style=\"text-align: right;\">\n",
       "      <th></th>\n",
       "      <th>name</th>\n",
       "      <th>age</th>\n",
       "      <th>class</th>\n",
       "    </tr>\n",
       "  </thead>\n",
       "  <tbody>\n",
       "    <tr>\n",
       "      <th>0</th>\n",
       "      <td>vaishu</td>\n",
       "      <td>21</td>\n",
       "      <td>11</td>\n",
       "    </tr>\n",
       "    <tr>\n",
       "      <th>1</th>\n",
       "      <td>aashi</td>\n",
       "      <td>22</td>\n",
       "      <td>12</td>\n",
       "    </tr>\n",
       "    <tr>\n",
       "      <th>2</th>\n",
       "      <td>manu</td>\n",
       "      <td>21</td>\n",
       "      <td>12</td>\n",
       "    </tr>\n",
       "    <tr>\n",
       "      <th>3</th>\n",
       "      <td>aditi</td>\n",
       "      <td>20</td>\n",
       "      <td>10</td>\n",
       "    </tr>\n",
       "  </tbody>\n",
       "</table>\n",
       "</div>"
      ],
      "text/plain": [
       "     name  age  class\n",
       "0  vaishu   21     11\n",
       "1   aashi   22     12\n",
       "2    manu   21     12\n",
       "3   aditi   20     10"
      ]
     },
     "execution_count": 91,
     "metadata": {},
     "output_type": "execute_result"
    }
   ],
   "source": [
    "df"
   ]
  },
  {
   "cell_type": "code",
   "execution_count": 92,
   "id": "ff0d1fbd",
   "metadata": {},
   "outputs": [
    {
     "data": {
      "text/plain": [
       "2017342706256"
      ]
     },
     "execution_count": 92,
     "metadata": {},
     "output_type": "execute_result"
    }
   ],
   "source": [
    "id(df[ 'name'])"
   ]
  },
  {
   "cell_type": "code",
   "execution_count": 93,
   "id": "8119be6a",
   "metadata": {},
   "outputs": [
    {
     "data": {
      "text/plain": [
       "2017342706256"
      ]
     },
     "execution_count": 93,
     "metadata": {},
     "output_type": "execute_result"
    }
   ],
   "source": [
    "id(d)"
   ]
  },
  {
   "cell_type": "code",
   "execution_count": null,
   "id": "28405b5e",
   "metadata": {},
   "outputs": [],
   "source": []
  },
  {
   "cell_type": "code",
   "execution_count": 94,
   "id": "48831024",
   "metadata": {},
   "outputs": [],
   "source": [
    "x = df[ 'name'].copy()"
   ]
  },
  {
   "cell_type": "code",
   "execution_count": 95,
   "id": "53a545b3",
   "metadata": {},
   "outputs": [
    {
     "data": {
      "text/plain": [
       "0    vaishu\n",
       "1     aashi\n",
       "2      manu\n",
       "3     aditi\n",
       "Name: name, dtype: object"
      ]
     },
     "execution_count": 95,
     "metadata": {},
     "output_type": "execute_result"
    }
   ],
   "source": [
    "x"
   ]
  },
  {
   "cell_type": "code",
   "execution_count": 96,
   "id": "eb09ff2b",
   "metadata": {},
   "outputs": [],
   "source": [
    "x.iloc[0] = 'manu'"
   ]
  },
  {
   "cell_type": "code",
   "execution_count": 97,
   "id": "59f80d66",
   "metadata": {},
   "outputs": [
    {
     "data": {
      "text/plain": [
       "0     manu\n",
       "1    aashi\n",
       "2     manu\n",
       "3    aditi\n",
       "Name: name, dtype: object"
      ]
     },
     "execution_count": 97,
     "metadata": {},
     "output_type": "execute_result"
    }
   ],
   "source": [
    "x"
   ]
  },
  {
   "cell_type": "code",
   "execution_count": 98,
   "id": "7bc3642f",
   "metadata": {},
   "outputs": [
    {
     "data": {
      "text/html": [
       "<div>\n",
       "<style scoped>\n",
       "    .dataframe tbody tr th:only-of-type {\n",
       "        vertical-align: middle;\n",
       "    }\n",
       "\n",
       "    .dataframe tbody tr th {\n",
       "        vertical-align: top;\n",
       "    }\n",
       "\n",
       "    .dataframe thead th {\n",
       "        text-align: right;\n",
       "    }\n",
       "</style>\n",
       "<table border=\"1\" class=\"dataframe\">\n",
       "  <thead>\n",
       "    <tr style=\"text-align: right;\">\n",
       "      <th></th>\n",
       "      <th>name</th>\n",
       "      <th>age</th>\n",
       "      <th>class</th>\n",
       "    </tr>\n",
       "  </thead>\n",
       "  <tbody>\n",
       "    <tr>\n",
       "      <th>0</th>\n",
       "      <td>vaishu</td>\n",
       "      <td>21</td>\n",
       "      <td>11</td>\n",
       "    </tr>\n",
       "    <tr>\n",
       "      <th>1</th>\n",
       "      <td>aashi</td>\n",
       "      <td>22</td>\n",
       "      <td>12</td>\n",
       "    </tr>\n",
       "    <tr>\n",
       "      <th>2</th>\n",
       "      <td>manu</td>\n",
       "      <td>21</td>\n",
       "      <td>12</td>\n",
       "    </tr>\n",
       "    <tr>\n",
       "      <th>3</th>\n",
       "      <td>aditi</td>\n",
       "      <td>20</td>\n",
       "      <td>10</td>\n",
       "    </tr>\n",
       "  </tbody>\n",
       "</table>\n",
       "</div>"
      ],
      "text/plain": [
       "     name  age  class\n",
       "0  vaishu   21     11\n",
       "1   aashi   22     12\n",
       "2    manu   21     12\n",
       "3   aditi   20     10"
      ]
     },
     "execution_count": 98,
     "metadata": {},
     "output_type": "execute_result"
    }
   ],
   "source": [
    "df"
   ]
  },
  {
   "cell_type": "markdown",
   "id": "e5a59ab8",
   "metadata": {},
   "source": [
    "### fancy indexing = choosing selected columns"
   ]
  },
  {
   "cell_type": "code",
   "execution_count": 100,
   "id": "a5671a1b",
   "metadata": {},
   "outputs": [
    {
     "data": {
      "text/html": [
       "<div>\n",
       "<style scoped>\n",
       "    .dataframe tbody tr th:only-of-type {\n",
       "        vertical-align: middle;\n",
       "    }\n",
       "\n",
       "    .dataframe tbody tr th {\n",
       "        vertical-align: top;\n",
       "    }\n",
       "\n",
       "    .dataframe thead th {\n",
       "        text-align: right;\n",
       "    }\n",
       "</style>\n",
       "<table border=\"1\" class=\"dataframe\">\n",
       "  <thead>\n",
       "    <tr style=\"text-align: right;\">\n",
       "      <th></th>\n",
       "      <th>name</th>\n",
       "      <th>class</th>\n",
       "    </tr>\n",
       "  </thead>\n",
       "  <tbody>\n",
       "    <tr>\n",
       "      <th>0</th>\n",
       "      <td>vaishu</td>\n",
       "      <td>11</td>\n",
       "    </tr>\n",
       "    <tr>\n",
       "      <th>1</th>\n",
       "      <td>aashi</td>\n",
       "      <td>12</td>\n",
       "    </tr>\n",
       "    <tr>\n",
       "      <th>2</th>\n",
       "      <td>manu</td>\n",
       "      <td>12</td>\n",
       "    </tr>\n",
       "    <tr>\n",
       "      <th>3</th>\n",
       "      <td>aditi</td>\n",
       "      <td>10</td>\n",
       "    </tr>\n",
       "  </tbody>\n",
       "</table>\n",
       "</div>"
      ],
      "text/plain": [
       "     name  class\n",
       "0  vaishu     11\n",
       "1   aashi     12\n",
       "2    manu     12\n",
       "3   aditi     10"
      ]
     },
     "execution_count": 100,
     "metadata": {},
     "output_type": "execute_result"
    }
   ],
   "source": [
    "df.loc[0:, ['name', 'class']]"
   ]
  },
  {
   "cell_type": "code",
   "execution_count": 101,
   "id": "34f1be55",
   "metadata": {},
   "outputs": [
    {
     "data": {
      "text/html": [
       "<div>\n",
       "<style scoped>\n",
       "    .dataframe tbody tr th:only-of-type {\n",
       "        vertical-align: middle;\n",
       "    }\n",
       "\n",
       "    .dataframe tbody tr th {\n",
       "        vertical-align: top;\n",
       "    }\n",
       "\n",
       "    .dataframe thead th {\n",
       "        text-align: right;\n",
       "    }\n",
       "</style>\n",
       "<table border=\"1\" class=\"dataframe\">\n",
       "  <thead>\n",
       "    <tr style=\"text-align: right;\">\n",
       "      <th></th>\n",
       "      <th>name</th>\n",
       "      <th>class</th>\n",
       "    </tr>\n",
       "  </thead>\n",
       "  <tbody>\n",
       "    <tr>\n",
       "      <th>1</th>\n",
       "      <td>aashi</td>\n",
       "      <td>12</td>\n",
       "    </tr>\n",
       "    <tr>\n",
       "      <th>3</th>\n",
       "      <td>aditi</td>\n",
       "      <td>10</td>\n",
       "    </tr>\n",
       "  </tbody>\n",
       "</table>\n",
       "</div>"
      ],
      "text/plain": [
       "    name  class\n",
       "1  aashi     12\n",
       "3  aditi     10"
      ]
     },
     "execution_count": 101,
     "metadata": {},
     "output_type": "execute_result"
    }
   ],
   "source": [
    "df.loc[[1,3],  ['name', 'class']]"
   ]
  },
  {
   "cell_type": "code",
   "execution_count": null,
   "id": "d297efc2",
   "metadata": {},
   "outputs": [],
   "source": []
  }
 ],
 "metadata": {
  "kernelspec": {
   "display_name": "base",
   "language": "python",
   "name": "python3"
  },
  "language_info": {
   "codemirror_mode": {
    "name": "ipython",
    "version": 3
   },
   "file_extension": ".py",
   "mimetype": "text/x-python",
   "name": "python",
   "nbconvert_exporter": "python",
   "pygments_lexer": "ipython3",
   "version": "3.12.4"
  }
 },
 "nbformat": 4,
 "nbformat_minor": 5
}
