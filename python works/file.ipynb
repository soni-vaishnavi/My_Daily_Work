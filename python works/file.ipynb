{
 "cells": [
  {
   "cell_type": "code",
   "execution_count": 48,
   "id": "7971e205",
   "metadata": {},
   "outputs": [
    {
     "name": "stdout",
     "output_type": "stream",
     "text": [
      "[1, 11, 13, 17, 19, 23, 29, 31, 37, 41, 43, 47, 53, 59, 61, 67, 71, 73, 79, 83, 89, 97]\n"
     ]
    }
   ],
   "source": [
    "num = 100\n",
    "root = num**0.5\n",
    "lst = []\n",
    "flag= True\n",
    "for i in range(1,num):\n",
    "    flag=True\n",
    "    for j in range(2, int(root)+1):\n",
    "        if  i %j ==0:\n",
    "            flag = False\n",
    "            break\n",
    "        \n",
    "    if flag:\n",
    "        lst.append(i)\n",
    "\n",
    "print(lst)\n"
   ]
  },
  {
   "cell_type": "code",
   "execution_count": null,
   "id": "e62a038b",
   "metadata": {},
   "outputs": [
    {
     "data": {
      "text/plain": [
       "[2, 3, 5, 7, 11, 13, 17, 19, 23, 29, 31, 37, 41, 43, 47]"
      ]
     },
     "execution_count": 46,
     "metadata": {},
     "output_type": "execute_result"
    }
   ],
   "source": [
    "nums = [2,3,5,7]\n",
    "num=50\n",
    "sq=1\n",
    "ans=[]\n",
    "flag= True\n",
    "for j in range(2, num + 1):\n",
    "    flag = True\n",
    "    for i in nums:\n",
    "        if i * i > j: \n",
    "            break\n",
    "        if j % i == 0 and j != i:\n",
    "            flag = False\n",
    "            break\n",
    "    if flag:\n",
    "        ans.append(j)\n",
    "\n",
    "ans"
   ]
  },
  {
   "cell_type": "code",
   "execution_count": 34,
   "id": "3448c4cf",
   "metadata": {},
   "outputs": [
    {
     "name": "stdout",
     "output_type": "stream",
     "text": [
      "0\n",
      "1\n",
      "2\n",
      "3\n",
      "5\n",
      "7\n",
      "11\n",
      "13\n",
      "17\n",
      "19\n",
      "23\n",
      "29\n",
      "31\n",
      "37\n",
      "41\n",
      "43\n",
      "47\n"
     ]
    }
   ],
   "source": [
    "lst = [True]*50\n",
    "num=2\n",
    "sq= num**2\n",
    "for i in range(sq, 50):\n",
    "    if i >=sq and i%num==0:\n",
    "        lst[i]=False\n",
    "\n",
    "num=3\n",
    "sq2= num**2\n",
    "for i in range(sq2, 50):\n",
    "     if i >=sq2 and i%num==0:\n",
    "        lst[i]=False\n",
    "\n",
    "num=5\n",
    "sq3= num**2\n",
    "for i in range(sq3, 50):\n",
    "     if i >=sq3 and i%num==0:\n",
    "        lst[i]=False\n",
    "\n",
    "num=7\n",
    "sq4= num**2\n",
    "for i in range(sq4, 50):\n",
    "     if i >=sq4 and i%num==0:\n",
    "        lst[i]=False\n",
    "\n",
    "for i in range(len(lst)):\n",
    "    if lst[i]==True:\n",
    "      print(i)\n"
   ]
  },
  {
   "cell_type": "code",
   "execution_count": null,
   "id": "fa8e5b28",
   "metadata": {},
   "outputs": [],
   "source": []
  },
  {
   "cell_type": "code",
   "execution_count": null,
   "id": "c63a6a0d",
   "metadata": {},
   "outputs": [],
   "source": []
  }
 ],
 "metadata": {
  "kernelspec": {
   "display_name": "base",
   "language": "python",
   "name": "python3"
  },
  "language_info": {
   "codemirror_mode": {
    "name": "ipython",
    "version": 3
   },
   "file_extension": ".py",
   "mimetype": "text/x-python",
   "name": "python",
   "nbconvert_exporter": "python",
   "pygments_lexer": "ipython3",
   "version": "3.12.4"
  }
 },
 "nbformat": 4,
 "nbformat_minor": 5
}
