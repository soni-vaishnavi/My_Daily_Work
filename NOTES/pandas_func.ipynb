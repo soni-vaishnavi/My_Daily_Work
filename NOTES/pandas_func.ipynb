{
 "cells": [
  {
   "cell_type": "markdown",
   "id": "f068a1eb",
   "metadata": {},
   "source": [
    ".apply(), .str"
   ]
  },
  {
   "cell_type": "markdown",
   "id": "b75f8e26",
   "metadata": {},
   "source": [
    ".str:\n",
    "\n",
    "It allows you to apply vectorized string functions on a Series of strings (i.e., a column with text data), without writing a loop.\n",
    "| Use Case                    | Code                                     | Description                            |\n",
    "| --------------------------- | ---------------------------------------- | -------------------------------------- |\n",
    "| Convert to lowercase        | `df['name'].str.lower()`                 | Converts all names to lowercase        |\n",
    "| Check if contains substring | `df['email'].str.contains('@gmail.com')` | Returns True/False for each email      |\n",
    "| Get string length           | `df['text'].str.len()`                   | Returns length of each string          |\n",
    "| Replace substrings          | `df['text'].str.replace('old', 'new')`   | Replaces \"old\" with \"new\"              |\n",
    "| Split strings               | `df['full_name'].str.split(' ')`         | Splits full name into list of names    |\n",
    "| Extract pattern             | `df['phone'].str.extract(r'(\\d{3})')`    | Extracts regex match (e.g., area code) |\n",
    "\n",
    "\n"
   ]
  },
  {
   "cell_type": "code",
   "execution_count": 1,
   "id": "3b07e18c",
   "metadata": {},
   "outputs": [
    {
     "name": "stdout",
     "output_type": "stream",
     "text": [
      "0    vaishnavi\n",
      "1         soni\n",
      "2      machine\n",
      "Name: Name, dtype: object\n",
      "0     True\n",
      "1    False\n",
      "2    False\n",
      "Name: Email, dtype: bool\n"
     ]
    }
   ],
   "source": [
    "import pandas as pd\n",
    "\n",
    "df = pd.DataFrame({\n",
    "    'Name': ['Vaishnavi', 'SOni', 'MACHINE'],\n",
    "    'Email': ['vaish@gmail.com', 'soni@yahoo.com', 'mach@ml.com']\n",
    "})\n",
    "\n",
    "print(df['Name'].str.lower())\n",
    "print(df['Email'].str.contains('gmail'))\n"
   ]
  },
  {
   "cell_type": "markdown",
   "id": "215e4e65",
   "metadata": {},
   "source": []
  },
  {
   "cell_type": "markdown",
   "id": "66266ab7",
   "metadata": {},
   "source": []
  }
 ],
 "metadata": {
  "kernelspec": {
   "display_name": "base",
   "language": "python",
   "name": "python3"
  },
  "language_info": {
   "codemirror_mode": {
    "name": "ipython",
    "version": 3
   },
   "file_extension": ".py",
   "mimetype": "text/x-python",
   "name": "python",
   "nbconvert_exporter": "python",
   "pygments_lexer": "ipython3",
   "version": "3.12.4"
  }
 },
 "nbformat": 4,
 "nbformat_minor": 5
}
