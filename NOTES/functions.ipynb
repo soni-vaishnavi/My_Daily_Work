{
 "cells": [
  {
   "cell_type": "markdown",
   "id": "e2a261ca",
   "metadata": {},
   "source": [
    "### lambda, map, reduce, split, strip, join, filter, string slicing\n"
   ]
  },
  {
   "cell_type": "markdown",
   "id": "c4f38fb1",
   "metadata": {},
   "source": [
    "What is **strip()** in Python?\n",
    "\n",
    "🔹 strip() is a string method that removes unwanted characters (by default, whitespace) from both ends of a string.\n",
    "✅ 1. Basic Syntax\n",
    "python\n",
    "Copy\n",
    "Edit\n",
    "string.strip()\n",
    "Removes leading (start) and trailing (end) whitespace.\n",
    "\n",
    "Does NOT remove spaces in the middle of the string."
   ]
  },
  {
   "cell_type": "code",
   "execution_count": 7,
   "id": "19804eaa",
   "metadata": {},
   "outputs": [
    {
     "name": "stdout",
     "output_type": "stream",
     "text": [
      "i hello how are you\n",
      "hello\n"
     ]
    }
   ],
   "source": [
    "text = \" hi hello how are you  \"\n",
    "a = text.strip()\n",
    "a\n",
    "b= \"_hello_\"\n",
    "print(a.strip(\"h\"))\n",
    "print(b.strip(\"_\"))"
   ]
  },
  {
   "cell_type": "code",
   "execution_count": 10,
   "id": "37e71f11",
   "metadata": {},
   "outputs": [
    {
     "name": "stdout",
     "output_type": "stream",
     "text": [
      "python\n",
      ">>>python\n",
      "python<<<\n"
     ]
    }
   ],
   "source": [
    "#rstrip and lstrip\n",
    "text = \">>>python<<<\"\n",
    "print(text.strip(\"<>\"))\n",
    "print(text.rstrip(\"<\"))\n",
    "print(text.lstrip(\">\"))"
   ]
  },
  {
   "cell_type": "code",
   "execution_count": 15,
   "id": "fdc2328a",
   "metadata": {},
   "outputs": [
    {
     "name": "stdout",
     "output_type": "stream",
     "text": [
      "5\n"
     ]
    }
   ],
   "source": [
    "# input cleaning\n",
    "inp=input(\"enter name: \").strip()\n",
    "print(len(inp))"
   ]
  },
  {
   "cell_type": "code",
   "execution_count": 19,
   "id": "13f973c1",
   "metadata": {},
   "outputs": [
    {
     "name": "stdout",
     "output_type": "stream",
     "text": [
      "hello hi\t hiiii \n",
      "hioioi\n"
     ]
    }
   ],
   "source": [
    "# cleaning new line \n",
    "line = \"\\t \\n hello hi\\t hiiii \\nhioioi\".strip()\n",
    "print(line)"
   ]
  },
  {
   "cell_type": "code",
   "execution_count": null,
   "id": "f5f7316e",
   "metadata": {},
   "outputs": [],
   "source": []
  }
 ],
 "metadata": {
  "kernelspec": {
   "display_name": "base",
   "language": "python",
   "name": "python3"
  },
  "language_info": {
   "codemirror_mode": {
    "name": "ipython",
    "version": 3
   },
   "file_extension": ".py",
   "mimetype": "text/x-python",
   "name": "python",
   "nbconvert_exporter": "python",
   "pygments_lexer": "ipython3",
   "version": "3.12.4"
  }
 },
 "nbformat": 4,
 "nbformat_minor": 5
}
