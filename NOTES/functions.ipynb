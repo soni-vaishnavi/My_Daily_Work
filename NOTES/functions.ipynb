{
 "cells": [
  {
   "cell_type": "markdown",
   "id": "e2a261ca",
   "metadata": {},
   "source": [
    "### lambda, map, reduce, split, strip, join, filter, string slicing, replace, ILOC, LOC\n"
   ]
  },
  {
   "cell_type": "markdown",
   "id": "c4f38fb1",
   "metadata": {},
   "source": [
    "What is **strip()** in Python?\n",
    "\n",
    "🔹 strip() is a string method that removes unwanted characters (by default, whitespace) from both ends of a string.\n",
    "✅ 1. Basic Syntax\n",
    "python\n",
    "Copy\n",
    "Edit\n",
    "string.strip()\n",
    "Removes leading (start) and trailing (end) whitespace.\n",
    "\n",
    "Does NOT remove spaces in the middle of the string."
   ]
  },
  {
   "cell_type": "code",
   "execution_count": 7,
   "id": "19804eaa",
   "metadata": {},
   "outputs": [
    {
     "name": "stdout",
     "output_type": "stream",
     "text": [
      "i hello how are you\n",
      "hello\n"
     ]
    }
   ],
   "source": [
    "text = \" hi hello how are you  \"\n",
    "a = text.strip()\n",
    "a\n",
    "b= \"_hello_\"\n",
    "print(a.strip(\"h\"))\n",
    "print(b.strip(\"_\"))"
   ]
  },
  {
   "cell_type": "markdown",
   "id": "f765c1e0",
   "metadata": {},
   "source": []
  },
  {
   "cell_type": "code",
   "execution_count": 10,
   "id": "37e71f11",
   "metadata": {},
   "outputs": [
    {
     "name": "stdout",
     "output_type": "stream",
     "text": [
      "python\n",
      ">>>python\n",
      "python<<<\n"
     ]
    }
   ],
   "source": [
    "#rstrip and lstrip\n",
    "text = \">>>python<<<\"\n",
    "print(text.strip(\"<>\"))\n",
    "print(text.rstrip(\"<\"))\n",
    "print(text.lstrip(\">\"))"
   ]
  },
  {
   "cell_type": "code",
   "execution_count": 15,
   "id": "fdc2328a",
   "metadata": {},
   "outputs": [
    {
     "name": "stdout",
     "output_type": "stream",
     "text": [
      "5\n"
     ]
    }
   ],
   "source": [
    "# input cleaning\n",
    "inp=input(\"enter name: \").strip()\n",
    "print(len(inp))"
   ]
  },
  {
   "cell_type": "code",
   "execution_count": 19,
   "id": "13f973c1",
   "metadata": {},
   "outputs": [
    {
     "name": "stdout",
     "output_type": "stream",
     "text": [
      "hello hi\t hiiii \n",
      "hioioi\n"
     ]
    }
   ],
   "source": [
    "# cleaning new line \n",
    "line = \"\\t \\n hello hi\\t hiiii \\nhioioi\".strip()\n",
    "print(line)"
   ]
  },
  {
   "cell_type": "code",
   "execution_count": 20,
   "id": "f5f7316e",
   "metadata": {},
   "outputs": [
    {
     "name": "stdout",
     "output_type": "stream",
     "text": [
      "hiiii\n"
     ]
    }
   ],
   "source": [
    "##multiple strip\n",
    "text = \"**++hiiii++**/*/\"\n",
    "print(text.strip(\"*+/\"))"
   ]
  },
  {
   "cell_type": "markdown",
   "id": "3ea915bb",
   "metadata": {},
   "source": [
    "Q1. Clean Names in a List\n",
    "You are given a list of names with extra spaces. Clean each name using strip() and print the result.\n",
    "\n",
    "\n",
    "names = [\"  Vaishnavi  \", \"\\tRamesh\\n\", \"  Pooja  \", \"\\nVikas\\t\"] \n",
    "\n",
    " Output: ['Vaishnavi', 'Ramesh', 'Pooja', 'Vikas']"
   ]
  },
  {
   "cell_type": "code",
   "execution_count": 25,
   "id": "81273f77",
   "metadata": {},
   "outputs": [
    {
     "name": "stdout",
     "output_type": "stream",
     "text": [
      "['Vaishnavi', 'Ramesh', 'Pooja', 'Vikas']\n",
      "['Vaishnavi', 'Ramesh', 'Pooja', 'Vikas']\n"
     ]
    }
   ],
   "source": [
    "names = [\"  Vaishnavi  \", \"\\tRamesh\\n\", \"  Pooja  \", \"\\nVikas\\t\"] \n",
    "res = []\n",
    "for i in names:\n",
    "    res.append(i.strip())\n",
    "    \n",
    "print(res)\n",
    "\n",
    "#       OR\n",
    "\n",
    "answer = [i.strip() for i in names]\n",
    "print(answer)"
   ]
  },
  {
   "cell_type": "markdown",
   "id": "6afbc687",
   "metadata": {},
   "source": [
    "## ⚠️ Precautions\n",
    "\n",
    "- `strip()` does **not** change the original string because **strings are immutable** in Python.  \n",
    "  You must **assign the result back** to a variable:\n",
    "\n",
    "  ```python\n",
    "  s = s.strip()\n",
    "Does not work on lists or numbers — only on strings.\n",
    "\n"
   ]
  },
  {
   "cell_type": "markdown",
   "id": "51a4e240",
   "metadata": {},
   "source": [
    "Q3. Detect \"Clean\" String\n",
    "Write a function is_clean(s) that returns True if a string has no leading or trailing whitespace or symbols (*, #, etc.)\n",
    "\n",
    "print(is_clean(\"Vaishnavi\"))         # True\n",
    "print(is_clean(\"  Vaishnavi  \"))     # False\n",
    "print(is_clean(\"**Python**\"))        # False"
   ]
  },
  {
   "cell_type": "code",
   "execution_count": null,
   "id": "f4d3ede1",
   "metadata": {},
   "outputs": [
    {
     "name": "stdout",
     "output_type": "stream",
     "text": [
      "False\n",
      "True\n",
      "False\n"
     ]
    }
   ],
   "source": [
    "def clean(word):\n",
    "    length = len(word)\n",
    "    word2 = word.strip(\" #*/\")\n",
    "    if length == len(word2):\n",
    "        print(\"True\")\n",
    "    else:\n",
    "        print(\"False\")\n",
    "\n",
    "clean(\"  vaishu\")\n",
    "clean(\"vaishnavi\")\n",
    "clean(\"**#hello#\")\n",
    "\n",
    "# OR\n",
    "# def is_clean(word):\n",
    "#     # strip unwanted characters from both ends\n",
    "#     word2 = word.strip(\" #*/\")\n",
    "#     return len(word) == len(word2)\n",
    "\n",
    "#OR\n",
    "# def is_clean(word, unwanted=\" #*/\"):\n",
    "#     return len(word) == len(word.strip(unwanted))\n",
    "\n"
   ]
  },
  {
   "cell_type": "markdown",
   "id": "a86ff353",
   "metadata": {},
   "source": [
    "🔸 Q4. Strip and Count Words\n",
    "Given a string with messy extra whitespace, clean it using strip() and then count the number of words using split().\n",
    "\n",
    "text = \"   Python   is   great   \"\n",
    "Expected Output: 3 words"
   ]
  },
  {
   "cell_type": "code",
   "execution_count": 48,
   "id": "3e6eb6b4",
   "metadata": {},
   "outputs": [
    {
     "name": "stdout",
     "output_type": "stream",
     "text": [
      "['Python', 'is', 'great']\n",
      "3\n"
     ]
    }
   ],
   "source": [
    "text = \"  Python  is  great  \"\n",
    "text2 = text.strip()\n",
    "lst = text2.split()\n",
    "print(lst)\n",
    "print(len(lst))\n"
   ]
  },
  {
   "cell_type": "markdown",
   "id": "9aef8203",
   "metadata": {},
   "source": [
    "## replace\n",
    "🧪 Syntax:\n",
    "\n",
    "string.replace(old, new, count)"
   ]
  },
  {
   "cell_type": "code",
   "execution_count": 1,
   "id": "a44acd97",
   "metadata": {},
   "outputs": [
    {
     "data": {
      "text/plain": [
       "'ham ham spam spam ham hello spam'"
      ]
     },
     "execution_count": 1,
     "metadata": {},
     "output_type": "execute_result"
    }
   ],
   "source": [
    "text = \"  +*-spam spam spam spam ham hello spam  \"\n",
    "text.strip(\" *+-\").replace(\"spam\", \"ham\", 2)"
   ]
  },
  {
   "cell_type": "markdown",
   "id": "157249f1",
   "metadata": {},
   "source": [
    "## What is split()?\n",
    "The split() method in Python is used to break a string into a list of substrings, based on a separator (like space, comma, dash, etc.).\n",
    "\n",
    "🔎 Syntax\n",
    "\n",
    "string.split(separator=None, maxsplit=-1)\n",
    "\n",
    "separator=\tstr\tThe delimiter on which to split. Default is whitespace.\n",
    "\n",
    "maxsplit=   int\tMaximum number of splits. Default is -1 (means unlimited).\n",
    "\n",
    "type returned\tList of strings"
   ]
  },
  {
   "cell_type": "code",
   "execution_count": 2,
   "id": "c7db39e8",
   "metadata": {},
   "outputs": [
    {
     "name": "stdout",
     "output_type": "stream",
     "text": [
      "['I', 'love', 'machine', 'learning']\n"
     ]
    }
   ],
   "source": [
    "s = \"I love machine learning\"\n",
    "print(s.split())\n"
   ]
  },
  {
   "cell_type": "code",
   "execution_count": 4,
   "id": "057b6bed",
   "metadata": {},
   "outputs": [
    {
     "name": "stdout",
     "output_type": "stream",
     "text": [
      "Vaishnavi 20 bca\n"
     ]
    }
   ],
   "source": [
    "data = \"Vaishnavi 20 bca\"\n",
    "name, age, degree = data.split()\n",
    "print(name, age, degree)"
   ]
  },
  {
   "cell_type": "code",
   "execution_count": 5,
   "id": "18a0749f",
   "metadata": {},
   "outputs": [
    {
     "name": "stdout",
     "output_type": "stream",
     "text": [
      "['a', 'b', 'c=d']\n"
     ]
    }
   ],
   "source": [
    "s = \"a=b=c=d\"\n",
    "print(s.split(\"=\", 2))\n"
   ]
  },
  {
   "cell_type": "code",
   "execution_count": 6,
   "id": "e92405a5",
   "metadata": {},
   "outputs": [
    {
     "data": {
      "text/plain": [
       "'05'"
      ]
     },
     "execution_count": 6,
     "metadata": {},
     "output_type": "execute_result"
    }
   ],
   "source": [
    "date = \"2025-06-05\"\n",
    "day = date.split(\"-\")[2]\n",
    "day"
   ]
  },
  {
   "cell_type": "code",
   "execution_count": 7,
   "id": "fddc079b",
   "metadata": {},
   "outputs": [
    {
     "name": "stdout",
     "output_type": "stream",
     "text": [
      "3\n"
     ]
    }
   ],
   "source": [
    "s = \"I    love    Python\"\n",
    "words = s.split()\n",
    "print(len(words))  # Output: 3\n"
   ]
  },
  {
   "cell_type": "markdown",
   "id": "7a8b8e6c",
   "metadata": {},
   "source": [
    "You are given a string input of a full name.\n",
    "Extract and print only the middle name if it exists, otherwise print \"No middle name\"."
   ]
  },
  {
   "cell_type": "code",
   "execution_count": 5,
   "id": "fc58e5d6",
   "metadata": {},
   "outputs": [
    {
     "name": "stdout",
     "output_type": "stream",
     "text": [
      "no middle name\n"
     ]
    }
   ],
   "source": [
    "s= input(\"enter name\").split()\n",
    "size = len(s)\n",
    "if len(s)>2:\n",
    "    mname = s[1:size-1]\n",
    "    print(\"middle name:\", mname)\n",
    "else: \n",
    "    print(\"no middle name\")"
   ]
  },
  {
   "cell_type": "markdown",
   "id": "81e1a7de",
   "metadata": {},
   "source": [
    "From an email like vaishnavi@openai.com, extract the domain name only, i.e., openai."
   ]
  },
  {
   "cell_type": "code",
   "execution_count": 7,
   "id": "c7c485be",
   "metadata": {},
   "outputs": [
    {
     "name": "stdout",
     "output_type": "stream",
     "text": [
      "domain is happyworld\n"
     ]
    }
   ],
   "source": [
    "mail= input(\"enter name\").strip().split(\"@\")[1]\n",
    "domain = mail.split(\".\")[0]\n",
    "print(\"domain is\", domain)"
   ]
  },
  {
   "cell_type": "markdown",
   "id": "d5c682ed",
   "metadata": {},
   "source": [
    "## Join\n",
    "separator.join(iterable_of_strings)\n",
    "| Component             | Description                                                  |\n",
    "| --------------------- | ------------------------------------------------------------ |\n",
    "| `separator`           | String used to join (like `' '`, `','`, `'-'`, etc.)         |\n",
    "| `iterable_of_strings` | A list, tuple, or other iterable containing **only strings** |\n",
    "\n",
    "\n",
    "⚠️ All elements must be strings — otherwise, you'll get a TypeError."
   ]
  },
  {
   "cell_type": "code",
   "execution_count": 8,
   "id": "0d71137e",
   "metadata": {},
   "outputs": [
    {
     "name": "stdout",
     "output_type": "stream",
     "text": [
      "I love Python\n"
     ]
    }
   ],
   "source": [
    "words = ['I', 'love', 'Python']\n",
    "sentence = ' '.join(words)\n",
    "print(sentence)\n"
   ]
  },
  {
   "cell_type": "code",
   "execution_count": 11,
   "id": "e0254493",
   "metadata": {},
   "outputs": [
    {
     "name": "stdout",
     "output_type": "stream",
     "text": [
      "17-7-2003\n"
     ]
    }
   ],
   "source": [
    "nums = [17,7,2003]\n",
    "s_nums = [str(x)for x in nums]\n",
    "date = '-'.join(s_nums) \n",
    "print(date)"
   ]
  },
  {
   "cell_type": "markdown",
   "id": "09d2ff44",
   "metadata": {},
   "source": [
    "Given a sentence, append the length of each word after it, separated by _.\n",
    "Return the final string using join()."
   ]
  },
  {
   "cell_type": "code",
   "execution_count": null,
   "id": "66397b87",
   "metadata": {},
   "outputs": [
    {
     "name": "stdout",
     "output_type": "stream",
     "text": [
      "how_3 are_3 you_3\n"
     ]
    }
   ],
   "source": [
    "s= input(\"enter name\").strip().split()\n",
    "\n",
    "result=[]\n",
    "for i in s:\n",
    "    result.append(i+\"_\"+ str(len(i)))\n",
    "final = \" \".join(result)\n",
    "print(final)\n",
    "\n",
    "#   OR \n",
    "#result = [word+ \"_\"+ str(len(word)) for word in s]"
   ]
  },
  {
   "cell_type": "markdown",
   "id": "dade441b",
   "metadata": {},
   "source": [
    "## Lambda \n",
    "\n",
    "🔹 Syntax:\n",
    "\n",
    "lambda arguments: expression\n",
    "\n",
    "✅ lambda → keyword\n",
    "\n",
    "✅ arguments → like parameters\n",
    "\n",
    "✅ expression → single line return value (no return keyword needed)\n",
    "\n"
   ]
  },
  {
   "cell_type": "code",
   "execution_count": 41,
   "id": "336a9264",
   "metadata": {},
   "outputs": [
    {
     "name": "stdout",
     "output_type": "stream",
     "text": [
      "9\n"
     ]
    }
   ],
   "source": [
    "add = lambda a,b : a+b\n",
    "print(add(2,7))"
   ]
  },
  {
   "cell_type": "markdown",
   "id": "2a41ab60",
   "metadata": {},
   "source": [
    "| Limitation          | Explanation                                 |\n",
    "| ------------------- | ------------------------------------------- |\n",
    "| Only 1 expression   | No `if-else`, loops, or multiple lines      |\n",
    "| No `return` keyword | Automatically returns the expression result |\n",
    "| Best for short use  | Not good for long logic or conditions       |\n",
    "\n",
    "USE CASE\n",
    "\n",
    "| Use Case                     | Example                         |\n",
    "| ---------------------------- | ------------------------------- |\n",
    "| One-time function            | `map()`, `filter()`, `sorted()` |\n",
    "| Quick logic without `def`    | `lambda x: x + 2`               |\n",
    "| Functional programming style | Compact + readable              |\n",
    "\n"
   ]
  },
  {
   "cell_type": "code",
   "execution_count": null,
   "id": "87336ae1",
   "metadata": {},
   "outputs": [],
   "source": []
  },
  {
   "cell_type": "markdown",
   "id": "d3580159",
   "metadata": {},
   "source": [
    "## map    [with lambda too]"
   ]
  },
  {
   "cell_type": "markdown",
   "id": "2d339f04",
   "metadata": {},
   "source": [
    "map(function, iterable)\n",
    "\n",
    "| Component  | Meaning                                 |\n",
    "| ---------- | --------------------------------------- |\n",
    "| `function` | A function to apply (can be `lambda`)   |\n",
    "| `iterable` | List, tuple, or any iterable            |\n",
    "| Returns    | A `map object` → convert to list to see |\n",
    "\n"
   ]
  },
  {
   "cell_type": "code",
   "execution_count": 47,
   "id": "4bf99e8d",
   "metadata": {},
   "outputs": [
    {
     "name": "stdout",
     "output_type": "stream",
     "text": [
      "[4, 16, 25, 9, 36]\n",
      "[4, 16, 25, 9, 36]\n",
      "[4, 16, 25, 9, 36]\n"
     ]
    }
   ],
   "source": [
    "def sq(x):\n",
    "    return x*x\n",
    "\n",
    "# traditional\n",
    "res =[]\n",
    "nums= [2,4,5,3,6]\n",
    "for i in nums:\n",
    "    res.append(sq(i))\n",
    "\n",
    "print(res)\n",
    "\n",
    "\n",
    "#with map\n",
    "result = list(map(sq, nums))\n",
    "print(result)\n",
    "\n",
    "##using map and lambda\n",
    "my_res = list(map(lambda x: x*x, nums))\n",
    "print(my_res)"
   ]
  },
  {
   "cell_type": "code",
   "execution_count": 48,
   "id": "eee59bb3",
   "metadata": {},
   "outputs": [
    {
     "name": "stdout",
     "output_type": "stream",
     "text": [
      "[5, 5, 3]\n"
     ]
    }
   ],
   "source": [
    "names = [\"apple\", \"mango\", \"fig\"]\n",
    "count = list(map(lambda x: len(x), names))\n",
    "print(count)"
   ]
  },
  {
   "cell_type": "markdown",
   "id": "22c73950",
   "metadata": {},
   "source": [
    ". Convert list of prices (as strings with ₹) into integers and increase each by 10"
   ]
  },
  {
   "cell_type": "code",
   "execution_count": 4,
   "id": "fc7eb2d4",
   "metadata": {},
   "outputs": [
    {
     "name": "stdout",
     "output_type": "stream",
     "text": [
      "[110, 260, 440, 100]\n",
      "[110, 260, 440, 100]\n"
     ]
    }
   ],
   "source": [
    "prices = [\"₹100\", \"₹250\", \"₹430\", \"₹90\"]\n",
    "price =[]\n",
    "for i in prices:\n",
    "    price.append((int(i.lstrip(\"₹\")))+10)\n",
    "print(price)\n",
    "\n",
    "## or\n",
    "myprice = list(map(lambda x: int(x.lstrip(\"₹\"))+10, prices))\n",
    "print(myprice)\n"
   ]
  },
  {
   "cell_type": "markdown",
   "id": "d714bf30",
   "metadata": {},
   "source": [
    "From a list of words, create a new list where only the first and last characters remain (e.g., \"python\" → \"pn\")"
   ]
  },
  {
   "cell_type": "code",
   "execution_count": 7,
   "id": "265dc8a2",
   "metadata": {},
   "outputs": [
    {
     "data": {
      "text/plain": [
       "['pn', 'ja', 'c', 'Vi']"
      ]
     },
     "execution_count": 7,
     "metadata": {},
     "output_type": "execute_result"
    }
   ],
   "source": [
    "words = [\"python\", \"java\", \"c\", \"Vaishnavi\"]\n",
    "shortened = list(map(lambda word: word[0] + word[-1] if len(word)>=2 else word ,words))\n",
    "shortened"
   ]
  },
  {
   "cell_type": "markdown",
   "id": "70e68591",
   "metadata": {},
   "source": [
    "## filter\n",
    "filter(function, iterable)\n",
    "| Part       | Meaning                                      |\n",
    "| ---------- | -------------------------------------------- |\n",
    "| `function` | Must return True/False (can use `lambda`)    |\n",
    "| `iterable` | List, tuple, string, etc.                    |\n",
    "| Result     | `filter` object → wrap with `list()` to view |\n"
   ]
  },
  {
   "cell_type": "code",
   "execution_count": 8,
   "id": "1e4b1974",
   "metadata": {},
   "outputs": [
    {
     "name": "stdout",
     "output_type": "stream",
     "text": [
      "[2, 4, 6]\n"
     ]
    }
   ],
   "source": [
    "nums = [1, 2, 3, 4, 5, 6]\n",
    "evens = list(filter(lambda x: x % 2 == 0, nums))\n",
    "print(evens)  # ➜ [2, 4, 6]\n"
   ]
  },
  {
   "cell_type": "code",
   "execution_count": 9,
   "id": "71842baf",
   "metadata": {},
   "outputs": [
    {
     "name": "stdout",
     "output_type": "stream",
     "text": [
      "['Ananya', 'Vaishnavi']\n"
     ]
    }
   ],
   "source": [
    "names = [\"Ravi\", \"Ananya\", \"Vaishnavi\", \"Raj\"]\n",
    "long_names = list(filter(lambda x: len(x) > 5, names))\n",
    "print(long_names)  # ➜ ['Ananya', 'Vaishnavi']\n"
   ]
  },
  {
   "cell_type": "code",
   "execution_count": 10,
   "id": "d01d7019",
   "metadata": {},
   "outputs": [
    {
     "name": "stdout",
     "output_type": "stream",
     "text": [
      "['hello', 'world', 'python']\n"
     ]
    }
   ],
   "source": [
    "data = [\"hello\", \"\", \"world\", \"\", \"python\"]\n",
    "non_empty = list(filter(lambda x: x != \"\", data))\n",
    "print(non_empty)  # ➜ ['hello', 'world', 'python']\n"
   ]
  },
  {
   "cell_type": "markdown",
   "id": "416036c3",
   "metadata": {},
   "source": [
    "| Rule                                        | Meaning                             |\n",
    "| ------------------------------------------- | ----------------------------------- |\n",
    "| Returns only values where condition is True | Everything else is removed          |\n",
    "| Always use `list()` to view result          | `filter()` itself is not a list     |\n",
    "| Works well with `lambda` for short logic    | like even check, length check, etc. |\n"
   ]
  },
  {
   "cell_type": "markdown",
   "id": "0dd2db1b",
   "metadata": {},
   "source": [
    "Comparison:\n",
    "| Task               | `map()`                   | `filter()`              |\n",
    "| ------------------ | ------------------------- | ----------------------- |\n",
    "| Apply to all items | Yes – modifies every item | No – removes some items |\n",
    "| Return length      | Same length as input      | Shorter or same         |\n",
    "| Output             | All transformed values    | Only matching values    |\n",
    "| Uses               | Transform each            | Select only few         |\n"
   ]
  },
  {
   "cell_type": "code",
   "execution_count": null,
   "id": "d6e32ff3",
   "metadata": {},
   "outputs": [],
   "source": []
  },
  {
   "cell_type": "code",
   "execution_count": null,
   "id": "669bbaab",
   "metadata": {},
   "outputs": [],
   "source": []
  }
 ],
 "metadata": {
  "kernelspec": {
   "display_name": "base",
   "language": "python",
   "name": "python3"
  },
  "language_info": {
   "codemirror_mode": {
    "name": "ipython",
    "version": 3
   },
   "file_extension": ".py",
   "mimetype": "text/x-python",
   "name": "python",
   "nbconvert_exporter": "python",
   "pygments_lexer": "ipython3",
   "version": "3.12.4"
  }
 },
 "nbformat": 4,
 "nbformat_minor": 5
}
