{
 "cells": [
  {
   "cell_type": "code",
   "execution_count": 30,
   "id": "6dd104ca",
   "metadata": {},
   "outputs": [],
   "source": [
    "text= \"vaishnavi soni belongs to gwalior\""
   ]
  },
  {
   "cell_type": "code",
   "execution_count": 31,
   "id": "c380c4c8",
   "metadata": {},
   "outputs": [],
   "source": [
    "l1 = []\n",
    "l2 = []"
   ]
  },
  {
   "cell_type": "code",
   "execution_count": 32,
   "id": "1ba84a6d",
   "metadata": {},
   "outputs": [],
   "source": [
    "for i in text:\n",
    "    if i != \" \":\n",
    "     l1.append(i)\n",
    "     \n",
    "    else:\n",
    "       if l1:\n",
    "          l2.append(l1)\n",
    "          l1 = []\n",
    "\n",
    "    \n",
    "if l1:\n",
    "   l2.append(l1)"
   ]
  },
  {
   "cell_type": "code",
   "execution_count": 33,
   "id": "9fd7e74f",
   "metadata": {},
   "outputs": [
    {
     "name": "stdout",
     "output_type": "stream",
     "text": [
      "['g', 'w', 'a', 'l', 'i', 'o', 'r']\n"
     ]
    }
   ],
   "source": [
    "print(l1)"
   ]
  },
  {
   "cell_type": "code",
   "execution_count": 34,
   "id": "d0b12007",
   "metadata": {},
   "outputs": [
    {
     "data": {
      "text/plain": [
       "[['v', 'a', 'i', 's', 'h', 'n', 'a', 'v', 'i'],\n",
       " ['s', 'o', 'n', 'i'],\n",
       " ['b', 'e', 'l', 'o', 'n', 'g', 's'],\n",
       " ['t', 'o'],\n",
       " ['g', 'w', 'a', 'l', 'i', 'o', 'r']]"
      ]
     },
     "execution_count": 34,
     "metadata": {},
     "output_type": "execute_result"
    }
   ],
   "source": [
    "l2"
   ]
  },
  {
   "cell_type": "code",
   "execution_count": 35,
   "id": "3c5292b0",
   "metadata": {},
   "outputs": [
    {
     "name": "stdout",
     "output_type": "stream",
     "text": [
      "['v', 'a', 'i', 's', 'h', 'n', 'a', 'v', 'i']\n",
      "['s', 'o', 'n', 'i']\n",
      "['b', 'e', 'l', 'o', 'n', 'g', 's']\n",
      "['t', 'o']\n",
      "['g', 'w', 'a', 'l', 'i', 'o', 'r']\n",
      "5\n"
     ]
    }
   ],
   "source": [
    "for tex in l2:\n",
    "    print (tex)\n",
    "  \n",
    "print(len(l2))"
   ]
  },
  {
   "cell_type": "code",
   "execution_count": null,
   "id": "5d2b3e11",
   "metadata": {},
   "outputs": [
    {
     "name": "stderr",
     "output_type": "stream",
     "text": [
      "UsageError: Line magic function `%git` not found.\n"
     ]
    }
   ],
   "source": []
  },
  {
   "cell_type": "code",
   "execution_count": null,
   "id": "d722d3b7",
   "metadata": {},
   "outputs": [],
   "source": [
    "\n"
   ]
  },
  {
   "cell_type": "code",
   "execution_count": null,
   "id": "952a1ce9",
   "metadata": {},
   "outputs": [],
   "source": []
  }
 ],
 "metadata": {
  "kernelspec": {
   "display_name": "base",
   "language": "python",
   "name": "python3"
  },
  "language_info": {
   "codemirror_mode": {
    "name": "ipython",
    "version": 3
   },
   "file_extension": ".py",
   "mimetype": "text/x-python",
   "name": "python",
   "nbconvert_exporter": "python",
   "pygments_lexer": "ipython3",
   "version": "3.12.4"
  }
 },
 "nbformat": 4,
 "nbformat_minor": 5
}
