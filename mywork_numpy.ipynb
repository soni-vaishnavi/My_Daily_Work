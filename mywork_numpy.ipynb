{
 "cells": [
  {
   "cell_type": "code",
   "execution_count": 2,
   "id": "3ffe8172",
   "metadata": {},
   "outputs": [
    {
     "name": "stdout",
     "output_type": "stream",
     "text": [
      "Python list size: 88\n",
      "Each int size in list: 28\n",
      "NumPy array size: 16\n",
      "NumPy array object size: 128\n"
     ]
    }
   ],
   "source": [
    "import sys\n",
    "import numpy as np\n",
    "\n",
    "py_list = [10, 20, 30, 40]\n",
    "np_array = np.array([10, 20, 30, 40])\n",
    "\n",
    "print(\"Python list size:\", sys.getsizeof(py_list))           # ~88+ bytes (just pointers)\n",
    "print(\"Each int size in list:\", sys.getsizeof(py_list[0]))   # ~28 bytes each object\n",
    "\n",
    "print(\"NumPy array size:\", np_array.nbytes)                  # 4 elements × 4 bytes = 16 bytes\n",
    "print(\"NumPy array object size:\", sys.getsizeof(np_array))   # Header + 16 bytes\n"
   ]
  },
  {
   "cell_type": "code",
   "execution_count": null,
   "id": "1df08ee3",
   "metadata": {},
   "outputs": [],
   "source": []
  }
 ],
 "metadata": {
  "kernelspec": {
   "display_name": "base",
   "language": "python",
   "name": "python3"
  },
  "language_info": {
   "codemirror_mode": {
    "name": "ipython",
    "version": 3
   },
   "file_extension": ".py",
   "mimetype": "text/x-python",
   "name": "python",
   "nbconvert_exporter": "python",
   "pygments_lexer": "ipython3",
   "version": "3.12.4"
  }
 },
 "nbformat": 4,
 "nbformat_minor": 5
}
