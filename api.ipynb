{
 "cells": [
  {
   "cell_type": "code",
   "execution_count": 4,
   "id": "640aaa96",
   "metadata": {},
   "outputs": [
    {
     "name": "stdout",
     "output_type": "stream",
     "text": [
      "Requirement already satisfied: requests in c:\\users\\dell\\anaconda3\\lib\\site-packages (2.32.2)\n",
      "Requirement already satisfied: charset-normalizer<4,>=2 in c:\\users\\dell\\anaconda3\\lib\\site-packages (from requests) (2.0.4)\n",
      "Requirement already satisfied: idna<4,>=2.5 in c:\\users\\dell\\anaconda3\\lib\\site-packages (from requests) (3.7)\n",
      "Requirement already satisfied: urllib3<3,>=1.21.1 in c:\\users\\dell\\anaconda3\\lib\\site-packages (from requests) (2.2.2)\n",
      "Requirement already satisfied: certifi>=2017.4.17 in c:\\users\\dell\\anaconda3\\lib\\site-packages (from requests) (2024.7.4)\n",
      "Note: you may need to restart the kernel to use updated packages.\n"
     ]
    }
   ],
   "source": [
    "%pip install requests"
   ]
  },
  {
   "cell_type": "code",
   "execution_count": 1,
   "id": "a81cb2aa",
   "metadata": {},
   "outputs": [],
   "source": [
    "import requests"
   ]
  },
  {
   "cell_type": "code",
   "execution_count": 2,
   "id": "dcf1824b",
   "metadata": {},
   "outputs": [],
   "source": [
    "url = \"https://api.exchangerate-api.com/v4/latest/usd\"\n",
    "data = requests.get(url)"
   ]
  },
  {
   "cell_type": "code",
   "execution_count": 4,
   "id": "ee7dfdaf",
   "metadata": {},
   "outputs": [
    {
     "name": "stdout",
     "output_type": "stream",
     "text": [
      "<Response [200]>\n"
     ]
    }
   ],
   "source": [
    "print(data)"
   ]
  },
  {
   "cell_type": "code",
   "execution_count": 5,
   "id": "007fd9fb",
   "metadata": {},
   "outputs": [],
   "source": [
    "api = data.json()"
   ]
  },
  {
   "cell_type": "code",
   "execution_count": 6,
   "id": "5ffd88b0",
   "metadata": {},
   "outputs": [
    {
     "data": {
      "text/plain": [
       "{'provider': 'https://www.exchangerate-api.com',\n",
       " 'WARNING_UPGRADE_TO_V6': 'https://www.exchangerate-api.com/docs/free',\n",
       " 'terms': 'https://www.exchangerate-api.com/terms',\n",
       " 'base': 'USD',\n",
       " 'date': '2025-05-23',\n",
       " 'time_last_updated': 1747958401,\n",
       " 'rates': {'USD': 1,\n",
       "  'AED': 3.67,\n",
       "  'AFN': 69.98,\n",
       "  'ALL': 86.69,\n",
       "  'AMD': 384.98,\n",
       "  'ANG': 1.79,\n",
       "  'AOA': 920.12,\n",
       "  'ARS': 1143.58,\n",
       "  'AUD': 1.56,\n",
       "  'AWG': 1.79,\n",
       "  'AZN': 1.7,\n",
       "  'BAM': 1.73,\n",
       "  'BBD': 2,\n",
       "  'BDT': 121.85,\n",
       "  'BGN': 1.73,\n",
       "  'BHD': 0.376,\n",
       "  'BIF': 2978.49,\n",
       "  'BMD': 1,\n",
       "  'BND': 1.29,\n",
       "  'BOB': 6.93,\n",
       "  'BRL': 5.64,\n",
       "  'BSD': 1,\n",
       "  'BTN': 86,\n",
       "  'BWP': 13.49,\n",
       "  'BYN': 3.02,\n",
       "  'BZD': 2,\n",
       "  'CAD': 1.39,\n",
       "  'CDF': 2881.15,\n",
       "  'CHF': 0.828,\n",
       "  'CLP': 943.51,\n",
       "  'CNY': 7.2,\n",
       "  'COP': 4184.58,\n",
       "  'CRC': 508.06,\n",
       "  'CUP': 24,\n",
       "  'CVE': 97.67,\n",
       "  'CZK': 22.06,\n",
       "  'DJF': 177.72,\n",
       "  'DKK': 6.61,\n",
       "  'DOP': 59.02,\n",
       "  'DZD': 132.59,\n",
       "  'EGP': 49.89,\n",
       "  'ERN': 15,\n",
       "  'ETB': 133.9,\n",
       "  'EUR': 0.886,\n",
       "  'FJD': 2.27,\n",
       "  'FKP': 0.745,\n",
       "  'FOK': 6.61,\n",
       "  'GBP': 0.745,\n",
       "  'GEL': 2.74,\n",
       "  'GGP': 0.745,\n",
       "  'GHS': 11.82,\n",
       "  'GIP': 0.745,\n",
       "  'GMD': 72.78,\n",
       "  'GNF': 8701.96,\n",
       "  'GTQ': 7.68,\n",
       "  'GYD': 209.67,\n",
       "  'HKD': 7.83,\n",
       "  'HNL': 26.04,\n",
       "  'HRK': 6.67,\n",
       "  'HTG': 130.93,\n",
       "  'HUF': 357.08,\n",
       "  'IDR': 16345.08,\n",
       "  'ILS': 3.59,\n",
       "  'IMP': 0.745,\n",
       "  'INR': 86,\n",
       "  'IQD': 1311.75,\n",
       "  'IRR': 42038.56,\n",
       "  'ISK': 128.08,\n",
       "  'JEP': 0.745,\n",
       "  'JMD': 158.97,\n",
       "  'JOD': 0.709,\n",
       "  'JPY': 143.75,\n",
       "  'KES': 129.15,\n",
       "  'KGS': 87.45,\n",
       "  'KHR': 3996.18,\n",
       "  'KID': 1.56,\n",
       "  'KMF': 435.77,\n",
       "  'KRW': 1381.18,\n",
       "  'KWD': 0.307,\n",
       "  'KYD': 0.833,\n",
       "  'KZT': 507.69,\n",
       "  'LAK': 21723.04,\n",
       "  'LBP': 89500,\n",
       "  'LKR': 299.26,\n",
       "  'LRD': 200.15,\n",
       "  'LSL': 18,\n",
       "  'LYD': 5.48,\n",
       "  'MAD': 9.23,\n",
       "  'MDL': 17.35,\n",
       "  'MGA': 4517.35,\n",
       "  'MKD': 54.43,\n",
       "  'MMK': 2100.56,\n",
       "  'MNT': 3552.48,\n",
       "  'MOP': 8.06,\n",
       "  'MRU': 39.85,\n",
       "  'MUR': 45.54,\n",
       "  'MVR': 15.47,\n",
       "  'MWK': 1741.98,\n",
       "  'MXN': 19.34,\n",
       "  'MYR': 4.27,\n",
       "  'MZN': 63.89,\n",
       "  'NAD': 18,\n",
       "  'NGN': 1585.98,\n",
       "  'NIO': 36.82,\n",
       "  'NOK': 10.2,\n",
       "  'NPR': 137.59,\n",
       "  'NZD': 1.69,\n",
       "  'OMR': 0.384,\n",
       "  'PAB': 1,\n",
       "  'PEN': 3.68,\n",
       "  'PGK': 4.12,\n",
       "  'PHP': 55.74,\n",
       "  'PKR': 281.74,\n",
       "  'PLN': 3.76,\n",
       "  'PYG': 8023.27,\n",
       "  'QAR': 3.64,\n",
       "  'RON': 4.48,\n",
       "  'RSD': 103.69,\n",
       "  'RUB': 79.7,\n",
       "  'RWF': 1450.59,\n",
       "  'SAR': 3.75,\n",
       "  'SBD': 8.55,\n",
       "  'SCR': 14.73,\n",
       "  'SDG': 512.33,\n",
       "  'SEK': 9.63,\n",
       "  'SGD': 1.29,\n",
       "  'SHP': 0.745,\n",
       "  'SLE': 22.82,\n",
       "  'SLL': 22820.72,\n",
       "  'SOS': 571.85,\n",
       "  'SRD': 36.74,\n",
       "  'SSP': 4581.3,\n",
       "  'STN': 21.7,\n",
       "  'SYP': 12921.1,\n",
       "  'SZL': 18,\n",
       "  'THB': 32.82,\n",
       "  'TJS': 10.35,\n",
       "  'TMT': 3.5,\n",
       "  'TND': 2.99,\n",
       "  'TOP': 2.36,\n",
       "  'TRY': 39,\n",
       "  'TTD': 6.8,\n",
       "  'TVD': 1.56,\n",
       "  'TWD': 29.97,\n",
       "  'TZS': 2706.02,\n",
       "  'UAH': 41.5,\n",
       "  'UGX': 3653.81,\n",
       "  'UYU': 41.66,\n",
       "  'UZS': 12913.4,\n",
       "  'VES': 95.02,\n",
       "  'VND': 25991.76,\n",
       "  'VUV': 120.96,\n",
       "  'WST': 2.76,\n",
       "  'XAF': 581.02,\n",
       "  'XCD': 2.7,\n",
       "  'XCG': 1.79,\n",
       "  'XDR': 0.738,\n",
       "  'XOF': 581.02,\n",
       "  'XPF': 105.7,\n",
       "  'YER': 243.99,\n",
       "  'ZAR': 18,\n",
       "  'ZMW': 27.25,\n",
       "  'ZWL': 26.89}}"
      ]
     },
     "execution_count": 6,
     "metadata": {},
     "output_type": "execute_result"
    }
   ],
   "source": [
    "api"
   ]
  },
  {
   "cell_type": "code",
   "execution_count": null,
   "id": "faff74cc",
   "metadata": {},
   "outputs": [],
   "source": []
  }
 ],
 "metadata": {
  "kernelspec": {
   "display_name": "base",
   "language": "python",
   "name": "python3"
  },
  "language_info": {
   "codemirror_mode": {
    "name": "ipython",
    "version": 3
   },
   "file_extension": ".py",
   "mimetype": "text/x-python",
   "name": "python",
   "nbconvert_exporter": "python",
   "pygments_lexer": "ipython3",
   "version": "3.12.4"
  }
 },
 "nbformat": 4,
 "nbformat_minor": 5
}
